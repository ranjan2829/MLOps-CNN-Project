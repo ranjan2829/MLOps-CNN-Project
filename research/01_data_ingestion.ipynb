{
 "cells": [
  {
   "cell_type": "code",
   "execution_count": 1,
   "metadata": {},
   "outputs": [],
   "source": [
    "import os"
   ]
  },
  {
   "cell_type": "code",
   "execution_count": 2,
   "metadata": {},
   "outputs": [
    {
     "data": {
      "text/plain": [
       "'/workspaces/MLOps-CNN-Project/research'"
      ]
     },
     "execution_count": 2,
     "metadata": {},
     "output_type": "execute_result"
    }
   ],
   "source": [
    "%pwd"
   ]
  },
  {
   "cell_type": "code",
   "execution_count": 3,
   "metadata": {},
   "outputs": [],
   "source": [
    "os.chdir(\"../\")"
   ]
  },
  {
   "cell_type": "code",
   "execution_count": 4,
   "metadata": {},
   "outputs": [
    {
     "data": {
      "text/plain": [
       "'/workspaces/MLOps-CNN-Project'"
      ]
     },
     "execution_count": 4,
     "metadata": {},
     "output_type": "execute_result"
    }
   ],
   "source": [
    "%pwd"
   ]
  },
  {
   "cell_type": "code",
   "execution_count": 5,
   "metadata": {},
   "outputs": [],
   "source": [
    "from dataclasses import dataclass\n",
    "from pathlib import Path\n",
    "@dataclass(frozen=True)\n",
    "class DataingestionConfig:\n",
    "     root_dir:Path\n",
    "     source_url:str\n",
    "     local_data_file:Path\n",
    "     unzip_dir:Path"
   ]
  },
  {
   "cell_type": "code",
   "execution_count": null,
   "metadata": {},
   "outputs": [],
   "source": []
  },
  {
   "cell_type": "code",
   "execution_count": 6,
   "metadata": {},
   "outputs": [
    {
     "name": "stdout",
     "output_type": "stream",
     "text": [
      "Current working directory: /workspaces/MLOps-CNN-Project\n",
      "\n",
      "Contents of current directory:\n",
      "['research', 'src', 'setup.py', 'templates', 'build', 'config', 'requirements.txt', 'params.yaml', 'dvc.yaml', 'dist', '.github', 'main.py', 'README.md', '.git', 'template.py', 'logs', 'artifacts']\n",
      "\n",
      "Contents of parent directory:\n",
      "['MLOps-CNN-Project', '.codespaces', '.oryx']\n"
     ]
    }
   ],
   "source": [
    "import os\n",
    "\n",
    "print(\"Current working directory:\", os.getcwd())\n",
    "print(\"\\nContents of current directory:\")\n",
    "print(os.listdir())\n",
    "print(\"\\nContents of parent directory:\")\n",
    "print(os.listdir('..'))"
   ]
  },
  {
   "cell_type": "code",
   "execution_count": 7,
   "metadata": {},
   "outputs": [
    {
     "name": "stdout",
     "output_type": "stream",
     "text": [
      "['MLOps-CNN-Project', '.codespaces', '.oryx']\n"
     ]
    }
   ],
   "source": [
    "import os\n",
    "print(os.listdir('/workspaces'))"
   ]
  },
  {
   "cell_type": "code",
   "execution_count": 8,
   "metadata": {},
   "outputs": [
    {
     "name": "stdout",
     "output_type": "stream",
     "text": [
      "Current working directory: /workspaces/MLOps-CNN-Project\n",
      "Contents of current directory: ['research', 'src', 'setup.py', 'templates', 'build', 'config', 'requirements.txt', 'params.yaml', 'dvc.yaml', 'dist', '.github', 'main.py', 'README.md', '.git', 'template.py', 'logs', 'artifacts']\n"
     ]
    }
   ],
   "source": [
    "import os\n",
    "import sys\n",
    "\n",
    "# Change to the project directory\n",
    "os.chdir('/workspaces/MLOps-CNN-Project')\n",
    "\n",
    "# Add the current directory to the Python path\n",
    "sys.path.append(os.getcwd())\n",
    "\n",
    "# Print current directory and its contents to verify\n",
    "print(\"Current working directory:\", os.getcwd())\n",
    "print(\"Contents of current directory:\", os.listdir())\n",
    "\n",
    "# Now try to import Life\n",
    "from src import Life"
   ]
  },
  {
   "cell_type": "code",
   "execution_count": 9,
   "metadata": {},
   "outputs": [],
   "source": [
    "from src.Life.constants import *"
   ]
  },
  {
   "cell_type": "code",
   "execution_count": 10,
   "metadata": {},
   "outputs": [
    {
     "name": "stdout",
     "output_type": "stream",
     "text": [
      "Requirement already satisfied: python-box in /usr/local/python/3.12.1/lib/python3.12/site-packages (7.2.0)\n"
     ]
    }
   ],
   "source": [
    "!pip install python-box"
   ]
  },
  {
   "cell_type": "code",
   "execution_count": 11,
   "metadata": {},
   "outputs": [
    {
     "name": "stdout",
     "output_type": "stream",
     "text": [
      "Requirement already satisfied: ensure in /usr/local/python/3.12.1/lib/python3.12/site-packages (1.0.4)\n",
      "Requirement already satisfied: six>=1.11.0 in /home/codespace/.local/lib/python3.12/site-packages (from ensure) (1.16.0)\n"
     ]
    }
   ],
   "source": [
    "   !pip install ensure"
   ]
  },
  {
   "cell_type": "code",
   "execution_count": 12,
   "metadata": {},
   "outputs": [],
   "source": [
    "from src.Life.utils.commons import read_yaml,create_directories"
   ]
  },
  {
   "cell_type": "code",
   "execution_count": 24,
   "metadata": {},
   "outputs": [],
   "source": [
    "@dataclass(frozen=True)\n",
    "class DataIngestionConfig:\n",
    "    root_dir: Path\n",
    "    source_URL: str\n",
    "    local_data_file: Path\n",
    "    unzip_dir: Path"
   ]
  },
  {
   "cell_type": "code",
   "execution_count": 25,
   "metadata": {},
   "outputs": [],
   "source": [
    "class Configuration:\n",
    "     def __init__(\n",
    "          self,\n",
    "          config_filepath=CONFIG_FILE_PATH,\n",
    "          params_filepath=PARAMS_FILE_PATH):\n",
    "          self.config=read_yaml(config_filepath)\n",
    "          self.params=read_yaml(params_filepath)\n",
    "          create_directories([self.config.artifacts_root])\n",
    "     def get_data_ingestion_config(self)->DataingestionConfig:\n",
    "          config=self.config.data_ingestion\n",
    "          create_directories([config.root_dir])\n",
    "          data_ingestion_config=DataingestionConfig(\n",
    "               root_dir=config.root_dir,\n",
    "               source_url=config.source_url,\n",
    "               local_data_file=config.local_data_file,\n",
    "               unzip_dir=config.unzip_dir\n",
    "          )\n",
    "          return data_ingestion_config\n",
    "     \n",
    "     "
   ]
  },
  {
   "cell_type": "code",
   "execution_count": 26,
   "metadata": {},
   "outputs": [],
   "source": [
    "import os\n",
    "import urllib.request as req\n",
    "import zipfile\n",
    "from src.Life import logger\n"
   ]
  },
  {
   "cell_type": "code",
   "execution_count": 27,
   "metadata": {},
   "outputs": [],
   "source": [
    "   from src.Life.utils.commons import get_size"
   ]
  },
  {
   "cell_type": "code",
   "execution_count": 28,
   "metadata": {},
   "outputs": [],
   "source": [
    "class DataIngestion:\n",
    "     def __init_(self,config: DataIngestionConfig):\n",
    "          self.config=config\n",
    "     def download_file(self):\n",
    "          if not os.path.exists(self.config.local_data_file):\n",
    "               filename,headers=req.urlretrieve(\n",
    "                    url=self.config.source_url,\n",
    "                    filename=self.config.local_data_file\n",
    "               )\n",
    "               logger.info(f\"{filename} downloaded ! with done!\")\n",
    "          else:\n",
    "               logger.info(f\"file already exists !\")\n",
    "     def extract_zip(self):\n",
    "          unzip_path=self.config.unzip_dir\n",
    "          os.makedirs(unzip_path,exist_ok=True)\n",
    "          with zipfile.ZipFile(self.config.local_data_file,\"r\") as zip_ref:\n",
    "               zip_ref.extractall(unzip_path)\n",
    "               "
   ]
  },
  {
   "cell_type": "code",
   "execution_count": null,
   "metadata": {},
   "outputs": [],
   "source": []
  },
  {
   "cell_type": "code",
   "execution_count": 29,
   "metadata": {},
   "outputs": [
    {
     "name": "stdout",
     "output_type": "stream",
     "text": [
      "[2024-10-13 10:41:35,078: INFO: commons: yaml file: config/config.yaml loaded successfully]\n",
      "[2024-10-13 10:41:35,079: INFO: commons: Loaded content: {'artifacts_root': 'artifacts', 'data_ingestion': {'root_dir': 'artifacts/data_ingestion', 'source_url': 'https://github.com/entbappy/Branching-tutorial/blob/master/Chicken-fecal-images.zip', 'local_data_file': 'artifacts/data_ingestion/Chicken-fecal-images.zip', 'unzip_dir': 'artifacts/data_ingestion/unzipped_data'}}]\n",
      "[2024-10-13 10:41:35,080: INFO: commons: yaml file: params.yaml loaded successfully]\n",
      "[2024-10-13 10:41:35,081: INFO: commons: Loaded content: {'key': 'val'}]\n",
      "[2024-10-13 10:41:35,082: INFO: commons: created directory at: artifacts]\n",
      "[2024-10-13 10:41:35,083: INFO: commons: created directory at: artifacts/data_ingestion]\n"
     ]
    },
    {
     "ename": "TypeError",
     "evalue": "DataIngestion() takes no arguments",
     "output_type": "error",
     "traceback": [
      "\u001b[0;31m---------------------------------------------------------------------------\u001b[0m",
      "\u001b[0;31mTypeError\u001b[0m                                 Traceback (most recent call last)",
      "Cell \u001b[0;32mIn[29], line 8\u001b[0m\n\u001b[1;32m      6\u001b[0m      data_ingestion\u001b[38;5;241m.\u001b[39mextract_zip()\n\u001b[1;32m      7\u001b[0m \u001b[38;5;28;01mexcept\u001b[39;00m \u001b[38;5;167;01mException\u001b[39;00m \u001b[38;5;28;01mas\u001b[39;00m e:\n\u001b[0;32m----> 8\u001b[0m      \u001b[38;5;28;01mraise\u001b[39;00m e\n",
      "Cell \u001b[0;32mIn[29], line 4\u001b[0m\n\u001b[1;32m      2\u001b[0m config\u001b[38;5;241m=\u001b[39mConfiguration()\n\u001b[1;32m      3\u001b[0m data_ingestion_config\u001b[38;5;241m=\u001b[39mconfig\u001b[38;5;241m.\u001b[39mget_data_ingestion_config()\n\u001b[0;32m----> 4\u001b[0m data_ingestion\u001b[38;5;241m=\u001b[39m\u001b[43mDataIngestion\u001b[49m\u001b[43m(\u001b[49m\u001b[43mconfig\u001b[49m\u001b[38;5;241;43m=\u001b[39;49m\u001b[43mdata_ingestion_config\u001b[49m\u001b[43m)\u001b[49m\n\u001b[1;32m      5\u001b[0m data_ingestion\u001b[38;5;241m.\u001b[39mdownload_file()\n\u001b[1;32m      6\u001b[0m data_ingestion\u001b[38;5;241m.\u001b[39mextract_zip()\n",
      "\u001b[0;31mTypeError\u001b[0m: DataIngestion() takes no arguments"
     ]
    }
   ],
   "source": [
    "try:\n",
    "     config=Configuration()\n",
    "     data_ingestion_config=config.get_data_ingestion_config()\n",
    "     data_ingestion=DataIngestion(config=data_ingestion_config)\n",
    "     data_ingestion.download_file()\n",
    "     data_ingestion.extract_zip()\n",
    "except Exception as e:\n",
    "     raise e\n"
   ]
  },
  {
   "cell_type": "code",
   "execution_count": null,
   "metadata": {},
   "outputs": [],
   "source": []
  }
 ],
 "metadata": {
  "kernelspec": {
   "display_name": "Python 3",
   "language": "python",
   "name": "python3"
  },
  "language_info": {
   "codemirror_mode": {
    "name": "ipython",
    "version": 3
   },
   "file_extension": ".py",
   "mimetype": "text/x-python",
   "name": "python",
   "nbconvert_exporter": "python",
   "pygments_lexer": "ipython3",
   "version": "3.12.1"
  }
 },
 "nbformat": 4,
 "nbformat_minor": 2
}
